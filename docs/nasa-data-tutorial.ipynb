{
 "cells": [
  {
   "cell_type": "markdown",
   "id": "191805af",
   "metadata": {},
   "source": [
    "# NASA Earth Science Data Integration Tutorial\n",
    "\n",
    "This notebook demonstrates how to access and analyze NASA Earth science data using various NASA resources:\n",
    "\n",
    "- **Data Rods for Hydrology**: Time series data for precipitation, soil moisture, temperature\n",
    "- **Giovanni**: Interactive data analysis and visualization\n",
    "- **Worldview**: Satellite imagery and data visualization\n",
    "- **GES DISC OPeNDAP**: Direct data access and subsetting\n",
    "- **CPTEC/INPE**: Brazilian space agency weather data\n",
    "\n",
    "## Prerequisites\n",
    "\n",
    "Make sure you have the required Python packages installed:\n",
    "```bash\n",
    "pip install requests pandas matplotlib plotly numpy\n",
    "```"
   ]
  },
  {
   "cell_type": "code",
   "execution_count": null,
   "id": "e436a9d3",
   "metadata": {},
   "outputs": [],
   "source": [
    "# Import required libraries\n",
    "import requests\n",
    "import pandas as pd\n",
    "import matplotlib.pyplot as plt\n",
    "import plotly.express as px\n",
    "import plotly.graph_objects as go\n",
    "from datetime import datetime, timedelta\n",
    "import json\n",
    "\n",
    "print(\"Libraries imported successfully!\")"
   ]
  },
  {
   "cell_type": "code",
   "execution_count": null,
   "id": "cbdaffff",
   "metadata": {},
   "outputs": [],
   "source": [
    "# NASA Data Integration Tutorial\n",
    "\n",
    "This notebook demonstrates how to access and analyze NASA Earth science data using various NASA resources integrated into the weather dashboard.\n",
    "\n",
    "<!-- filepath: d:\\HP-NASA\\docs\\nasa-data-tutorial.ipynb -->"
   ]
  }
 ],
 "metadata": {
  "language_info": {
   "name": "python"
  }
 },
 "nbformat": 4,
 "nbformat_minor": 5
}
